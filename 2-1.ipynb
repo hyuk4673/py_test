{
 "cells": [
  {
   "cell_type": "code",
   "execution_count": 3,
   "id": "f36d0dff",
   "metadata": {
    "scrolled": false
   },
   "outputs": [
    {
     "name": "stdout",
     "output_type": "stream",
     "text": [
      "숫자를 입력하시오 : 55\n",
      "no\n"
     ]
    }
   ],
   "source": [
    "n = int(input(\"숫자를 입력하시오 : \"))\n",
    "\n",
    "if(n%10 in [3,6,9]):\n",
    "    print(\"yes\")\n",
    "else:\n",
    "    print(\"no\")"
   ]
  }
 ],
 "metadata": {
  "kernelspec": {
   "display_name": "Python 3 (ipykernel)",
   "language": "python",
   "name": "python3"
  },
  "language_info": {
   "codemirror_mode": {
    "name": "ipython",
    "version": 3
   },
   "file_extension": ".py",
   "mimetype": "text/x-python",
   "name": "python",
   "nbconvert_exporter": "python",
   "pygments_lexer": "ipython3",
   "version": "3.9.7"
  }
 },
 "nbformat": 4,
 "nbformat_minor": 5
}
