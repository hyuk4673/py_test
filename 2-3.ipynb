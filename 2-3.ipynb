{
 "cells": [
  {
   "cell_type": "code",
   "execution_count": 5,
   "id": "cfe9b693",
   "metadata": {},
   "outputs": [
    {
     "name": "stdout",
     "output_type": "stream",
     "text": [
      "숫자를 입력하시오 : 10\n",
      "2^0부터 2^10까지의 합은 2047입니다.\n"
     ]
    }
   ],
   "source": [
    "n = int(input(\"숫자를 입력하시오 : \"))\n",
    "total_sum = 0\n",
    "\n",
    "for i in range(n+1):\n",
    "    total_sum += 2 ** i\n",
    "\n",
    "print(\"2^0부터 2^\" + str(n) + \"까지의 합은 \" + str(total_sum) + \"입니다.\")"
   ]
  }
 ],
 "metadata": {
  "kernelspec": {
   "display_name": "Python 3 (ipykernel)",
   "language": "python",
   "name": "python3"
  },
  "language_info": {
   "codemirror_mode": {
    "name": "ipython",
    "version": 3
   },
   "file_extension": ".py",
   "mimetype": "text/x-python",
   "name": "python",
   "nbconvert_exporter": "python",
   "pygments_lexer": "ipython3",
   "version": "3.9.7"
  }
 },
 "nbformat": 4,
 "nbformat_minor": 5
}
